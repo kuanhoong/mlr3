{
  "metadata": {
    "kernelspec": {
      "name": "ir",
      "display_name": "R",
      "language": "R"
    },
    "language_info": {
      "name": "R",
      "codemirror_mode": "r",
      "pygments_lexer": "r",
      "mimetype": "text/x-r-source",
      "file_extension": ".r",
      "version": "4.0.5"
    },
    "colab": {
      "provenance": [],
      "collapsed_sections": [
        "CI0JBSIyOElg",
        "-i0f-GosOElh",
        "mTRh95QqOEli",
        "7WldfzG9OElk",
        "9l6GrWQEOElm",
        "VV4aDSI0OElo",
        "i5WCdRilOElp",
        "jeqbYcL0OEls",
        "fFMU6psgOElt",
        "kSEC_ozNOElv",
        "MNMaCaIqOElw",
        "Twa-S_7WOEly",
        "Gtw5v04dOElz",
        "usl-iZpdOEl1",
        "yE-OcL3lOEl1",
        "ZYBDBYc8OEl2",
        "615RiuzfOEl4",
        "0cKHifj0OEl4",
        "b8mbrhfr1QNg",
        "asS49lbRW9Kf",
        "iM57hlcNYPz_",
        "ld1slS8MRO_H",
        "82Roug3eRZpE",
        "byS8sLx-RhZ1",
        "FSC0XhVXRmgw",
        "DyDQoZk2Rr2l",
        "kssUq4fMRwvS",
        "lUSKppbIR2m_",
        "urxYExfROEl5",
        "05K2XDgQOEl5",
        "9iyQqPwvOEl6"
      ],
      "include_colab_link": true
    }
  },
  "nbformat_minor": 0,
  "nbformat": 4,
  "cells": [
    {
      "cell_type": "markdown",
      "metadata": {
        "id": "view-in-github",
        "colab_type": "text"
      },
      "source": [
        "<a href=\"https://colab.research.google.com/github/kuanhoong/mlr3/blob/main/demo/Introduction_to_mlr3.ipynb\" target=\"_parent\"><img src=\"https://colab.research.google.com/assets/colab-badge.svg\" alt=\"Open In Colab\"/></a>"
      ]
    },
    {
      "cell_type": "markdown",
      "source": [
        "# Introduction to Machine Learning with mlr3"
      ],
      "metadata": {
        "id": "54G0J1xN9Cax"
      }
    },
    {
      "cell_type": "markdown",
      "source": [
        "![](https://mlr3.mlr-org.com/reference/figures/mlr3verse.svg)"
      ],
      "metadata": {
        "id": "dYUrWHS8ASgD"
      }
    },
    {
      "cell_type": "markdown",
      "source": [
        "[mlr3](https://mlr3.mlr-org.com/) is an R package that makes machine learning easier. It provides a unified interface to existing machine learning algorithms and makes it easy to experiment with different models. mlr3 also provides a number of features that make it easier to evaluate and compare different models."
      ],
      "metadata": {
        "id": "K4-p7_ss9IUe"
      }
    },
    {
      "cell_type": "markdown",
      "source": [
        "# Resource\n",
        "- [slides](https://docs.google.com/presentation/d/1fUIBp-oZ8cygwnNzUH7Y7jk2s_ZhshswcsANuMpImFA/edit?usp=sharing)\n",
        "- [Github](https://github.com/kuanhoong/mlr3)"
      ],
      "metadata": {
        "id": "WhwnCz-fUQIw"
      }
    },
    {
      "cell_type": "markdown",
      "source": [
        "## Installation\n",
        "\n",
        "- Install [R](https://cran.r-project.org/mirrors.html) from here.\n",
        "- Install [RStudio](https://www.rstudio.com/products/rstudio/download/) from here.\n",
        "- Follow kuanhoong's github repo [here](https://github.com/kuanhoong/mlr3) to test your set-up (note: it is not necessary to establish communication between Kaggle and Github for this session).\n",
        "- Install all the packages in the mlr3 by running `install.packages(\"mlr3\")` and `install.packages(\"mlr3verse\")` in Kaggle/Google Colab notebook."
      ],
      "metadata": {
        "id": "fAMRvkimOElY"
      }
    },
    {
      "cell_type": "code",
      "source": [
        "install.packages(\"mlr3\")\n",
        "install.packages(\"mlr3verse\")\n",
        "install.packages(\"GGally\")\n",
        "library(mlr3)\n",
        "library(mlr3verse)\n",
        "library(mlr3viz)\n",
        "library(GGally)"
      ],
      "metadata": {
        "trusted": true,
        "id": "dmOd45EoOElZ"
      },
      "execution_count": null,
      "outputs": []
    },
    {
      "cell_type": "markdown",
      "source": [
        "## Example 1: Iris"
      ],
      "metadata": {
        "id": "_VlNRuI6E2DN"
      }
    },
    {
      "cell_type": "code",
      "source": [
        "head(iris) ##included in R"
      ],
      "metadata": {
        "id": "LfhAiVaCD0Op"
      },
      "execution_count": null,
      "outputs": []
    },
    {
      "cell_type": "markdown",
      "source": [
        "## Constructing Learners and Tasks"
      ],
      "metadata": {
        "id": "jJ6UHjk2OEla"
      }
    },
    {
      "cell_type": "code",
      "source": [
        "task = TaskClassif$new(\"iris\", iris, \"Species\")"
      ],
      "metadata": {
        "id": "iSQ13fTMEDAp"
      },
      "execution_count": null,
      "outputs": []
    },
    {
      "cell_type": "code",
      "source": [
        "autoplot(task, type = \"pairs\")"
      ],
      "metadata": {
        "id": "r63jCWqtnZFP"
      },
      "execution_count": null,
      "outputs": []
    },
    {
      "cell_type": "code",
      "source": [
        "task"
      ],
      "metadata": {
        "id": "zTXm82V5EeNq"
      },
      "execution_count": null,
      "outputs": []
    },
    {
      "cell_type": "code",
      "source": [
        "task$nrow"
      ],
      "metadata": {
        "id": "gg8mYv90EUGH"
      },
      "execution_count": null,
      "outputs": []
    },
    {
      "cell_type": "code",
      "source": [
        "task$ncol"
      ],
      "metadata": {
        "id": "tHupx5igEXMH"
      },
      "execution_count": null,
      "outputs": []
    },
    {
      "cell_type": "markdown",
      "source": [
        "## Basic train + predict"
      ],
      "metadata": {
        "id": "LA_Ya7C6OElc"
      }
    },
    {
      "cell_type": "code",
      "source": [
        "learner = lrn(\"classif.rpart\")"
      ],
      "metadata": {
        "id": "H8GVHusmFFPC"
      },
      "execution_count": null,
      "outputs": []
    },
    {
      "cell_type": "code",
      "source": [
        "## train \n",
        "learner$train(task)"
      ],
      "metadata": {
        "id": "oFu9-vcvHSBu"
      },
      "execution_count": null,
      "outputs": []
    },
    {
      "cell_type": "code",
      "source": [
        "print(learner$model)"
      ],
      "metadata": {
        "id": "GNNWHI9PHcA6"
      },
      "execution_count": null,
      "outputs": []
    },
    {
      "cell_type": "code",
      "source": [
        "## check hyperparameters\n",
        "as.data.table(learner$param_set)"
      ],
      "metadata": {
        "id": "_Dx5pE3DHm4r"
      },
      "execution_count": null,
      "outputs": []
    },
    {
      "cell_type": "code",
      "source": [
        "## change learner behaviour\n",
        "learner$param_set$values = list(maxdepth = 1, xval = 0)"
      ],
      "metadata": {
        "id": "9jBrVeytHzgS"
      },
      "execution_count": null,
      "outputs": []
    },
    {
      "cell_type": "code",
      "source": [
        "## train \n",
        "learner$train(task)"
      ],
      "metadata": {
        "id": "SAzZPwbqIMCV"
      },
      "execution_count": null,
      "outputs": []
    },
    {
      "cell_type": "code",
      "source": [
        "print(learner$model)"
      ],
      "metadata": {
        "id": "KP08xE9SIPy0"
      },
      "execution_count": null,
      "outputs": []
    },
    {
      "cell_type": "code",
      "source": [
        "install.packages(\"data.table\")\n",
        "library(data.table)"
      ],
      "metadata": {
        "id": "OBYu0g3qJzjl"
      },
      "execution_count": null,
      "outputs": []
    },
    {
      "cell_type": "code",
      "source": [
        "## create new_data\n",
        "new_data = data.table(\"Sepal.Length\"=c(4,2), \"Sepal.Width\"=c(3,2), \"Petal.Length\"=c(2,3), \"Petal.Width\" =c(1,2))\n",
        "new_data\n"
      ],
      "metadata": {
        "id": "3AR_Xub9IsdL"
      },
      "execution_count": null,
      "outputs": []
    },
    {
      "cell_type": "code",
      "source": [
        "## prediction\n",
        "\n",
        "prediction = learner$predict_newdata(new_data)\n",
        "prediction"
      ],
      "metadata": {
        "id": "rEeJglbBKLEX"
      },
      "execution_count": null,
      "outputs": []
    },
    {
      "cell_type": "code",
      "source": [
        "## change prediction type\n",
        "learner$predict_type = \"prob\"\n",
        "prediction = learner$predict_newdata(new_data)\n",
        "prediction"
      ],
      "metadata": {
        "id": "dxLaqXPvKZhj"
      },
      "execution_count": null,
      "outputs": []
    },
    {
      "cell_type": "code",
      "source": [
        "## view prediction object by using data.table\n",
        "\n",
        "as.data.table(prediction)"
      ],
      "metadata": {
        "id": "YFAq1lNNKrBD"
      },
      "execution_count": null,
      "outputs": []
    },
    {
      "cell_type": "code",
      "source": [
        "prediction$response"
      ],
      "metadata": {
        "id": "wYpJF4n2K4sd"
      },
      "execution_count": null,
      "outputs": []
    },
    {
      "cell_type": "markdown",
      "source": [
        "## Example 2: Penguins"
      ],
      "metadata": {
        "id": "lxzHm5opE-61"
      }
    },
    {
      "cell_type": "code",
      "source": [
        "# create learning task\n",
        "task_penguins = as_task_classif(species ~ ., data = palmerpenguins::penguins)\n",
        "task_penguins"
      ],
      "metadata": {
        "trusted": true,
        "id": "KYQK67kSOElb"
      },
      "execution_count": null,
      "outputs": []
    },
    {
      "cell_type": "code",
      "source": [
        "# load learner and set hyperparameter\n",
        "learner = lrn(\"classif.rpart\", cp = .01)"
      ],
      "metadata": {
        "trusted": true,
        "id": "G7D5SVsyOElb"
      },
      "execution_count": null,
      "outputs": []
    },
    {
      "cell_type": "code",
      "source": [
        "# train/test split\n",
        "split = partition(task_penguins, ratio = 0.67)\n",
        "\n",
        "# train the model\n",
        "learner$train(task_penguins, split$train_set)\n",
        "\n",
        "# predict data\n",
        "prediction = learner$predict(task_penguins, split$test_set)\n",
        "\n",
        "# calculate performance\n",
        "prediction$confusion"
      ],
      "metadata": {
        "trusted": true,
        "id": "7xDZHEVvOElc"
      },
      "execution_count": null,
      "outputs": []
    },
    {
      "cell_type": "markdown",
      "source": [
        "measure the model performance"
      ],
      "metadata": {
        "id": "v7kdTvcYOEld"
      }
    },
    {
      "cell_type": "code",
      "source": [
        "measure = msr(\"classif.acc\")\n",
        "prediction$score(measure)"
      ],
      "metadata": {
        "trusted": true,
        "id": "IejWICGzOEld"
      },
      "execution_count": null,
      "outputs": []
    },
    {
      "cell_type": "code",
      "source": [
        "## confusion matrix\n",
        "prediction$confusion"
      ],
      "metadata": {
        "id": "31TZu2tKMEKo"
      },
      "execution_count": null,
      "outputs": []
    },
    {
      "cell_type": "code",
      "source": [
        "autoplot(prediction)"
      ],
      "metadata": {
        "id": "9Ab6djlYRiLv"
      },
      "execution_count": null,
      "outputs": []
    },
    {
      "cell_type": "markdown",
      "source": [
        "# Resample"
      ],
      "metadata": {
        "id": "YtGljRSIOEle"
      }
    },
    {
      "cell_type": "code",
      "source": [
        "# 3-fold cross validation\n",
        "resampling = rsmp(\"cv\", folds = 3L)\n",
        "\n",
        "# run experiments\n",
        "rr = resample(task_penguins, learner, resampling)\n",
        "\n",
        "# access results\n",
        "rr$score(measure)[, .(task_id, learner_id, iteration, classif.acc)]"
      ],
      "metadata": {
        "id": "sKS2Gwqg-wu_"
      },
      "execution_count": null,
      "outputs": []
    },
    {
      "cell_type": "markdown",
      "source": [
        "# Example 3\n",
        "\n",
        "Regression with mtcars data\n"
      ],
      "metadata": {
        "id": "CI0JBSIyOElg"
      }
    },
    {
      "cell_type": "code",
      "source": [
        "install.packages(\"ranger\")\n",
        "library(ranger)"
      ],
      "metadata": {
        "id": "u8vRBG1VfoK_"
      },
      "execution_count": null,
      "outputs": []
    },
    {
      "cell_type": "code",
      "source": [
        "### Create Task ---------------------------------------------------------------#\n",
        "data(\"mtcars\", package = \"datasets\")\n",
        "task_mtcars = as_task_regr(mtcars, target = \"mpg\", id = \"cars\")"
      ],
      "metadata": {
        "trusted": true,
        "id": "rsX7Osz_OElh"
      },
      "execution_count": null,
      "outputs": []
    },
    {
      "cell_type": "code",
      "source": [
        "task_mtcars\n",
        "task_mtcars$feature_names\n",
        "task_mtcars$target_names"
      ],
      "metadata": {
        "id": "UNcPdVJtfxBu"
      },
      "execution_count": null,
      "outputs": []
    },
    {
      "cell_type": "code",
      "source": [
        "### Create Learner ------------------------------------------------------------#\n",
        "lrn_rf = lrn(\"regr.ranger\")\n",
        "lrn_rf"
      ],
      "metadata": {
        "id": "gLZGUL31f1PT"
      },
      "execution_count": null,
      "outputs": []
    },
    {
      "cell_type": "code",
      "source": [
        "lrn_rf$param_set\n",
        "lrn_rf$model"
      ],
      "metadata": {
        "id": "MxpM2LRVf_Wq"
      },
      "execution_count": null,
      "outputs": []
    },
    {
      "cell_type": "code",
      "source": [
        "# train/test split\n",
        "split = partition(task_mtcars, ratio = 0.67)\n",
        "\n",
        "# train the model\n",
        "lrn_rf$train(task_mtcars, split$train_set)\n",
        "\n",
        "# predict data\n",
        "prediction = lrn_rf$predict(task_mtcars, split$test_set)\n",
        "\n",
        "# prediction results\n",
        "prediction$response"
      ],
      "metadata": {
        "id": "GBZEvQnaghhA"
      },
      "execution_count": null,
      "outputs": []
    },
    {
      "cell_type": "code",
      "source": [
        "# Inspect predictions\n",
        "head(data.frame(\n",
        "id = 1:length(prediction$truth),\n",
        "truth = prediction$truth,\n",
        "response = prediction$response))"
      ],
      "metadata": {
        "id": "Wu4z0VqHkFBH"
      },
      "execution_count": null,
      "outputs": []
    },
    {
      "cell_type": "code",
      "source": [
        "# Get nice visualization with a one-liner\n",
        "mlr3viz::autoplot(prediction)"
      ],
      "metadata": {
        "id": "azZJXFnwkSqo"
      },
      "execution_count": null,
      "outputs": []
    },
    {
      "cell_type": "code",
      "source": [
        "# Define MAE metric\n",
        "mae <- mlr3::msr(\"regr.mae\")\n",
        "# Assess performance (MSE by default)\n",
        "prediction$score()\n"
      ],
      "metadata": {
        "id": "h1hVvMIEqSqJ"
      },
      "execution_count": null,
      "outputs": []
    },
    {
      "cell_type": "code",
      "source": [
        "prediction$score(mae)"
      ],
      "metadata": {
        "id": "jAGOUORRqcgY"
      },
      "execution_count": null,
      "outputs": []
    },
    {
      "cell_type": "code",
      "source": [
        "# Define MSE metric\n",
        "mse <- mlr3::msr(\"regr.mse\")\n",
        "prediction$score(mse)"
      ],
      "metadata": {
        "id": "mlUnT4XSOqCi"
      },
      "execution_count": null,
      "outputs": []
    },
    {
      "cell_type": "markdown",
      "source": [
        "# Conclusion\n",
        "\n",
        "In this webinar, you learned about mlr3 which is a powerful R package that makes machine learning easier. It provides a unified interface to existing machine learning algorithms and makes it easy to experiment with different models. mlr3 also provides a number of features that make it easier to evaluate and compare different models."
      ],
      "metadata": {
        "id": "urxYExfROEl5"
      }
    },
    {
      "cell_type": "markdown",
      "source": [
        "# Resources\n",
        "\n",
        "- [mlr3 website](https://mlr3.mlr-org.com/)\n",
        "- [Flexible and Robust Machine Learning Using mlr3 in R (ebook)](https://mlr3book.mlr-org.com/)\n",
        "- [Exploring the World of Machine Learning with mlr3 in R](https://medium.com/@moonchangin/introduction-to-machine-learning-in-r-mlr3-e3229b97d422)\n",
        "- [Building ML models using mlr3 ](https://medium.com/@natalie.a.foss/building-ml-models-using-mlr3-b91c9b26a9a3)\n",
        "- [mlr3 cheatsheets](https://cheatsheets.mlr-org.com/)\n",
        "- [Introduction to Machine Learning (I2ML)](https://slds-lmu.github.io/i2ml/)"
      ],
      "metadata": {
        "id": "05K2XDgQOEl5"
      }
    },
    {
      "cell_type": "markdown",
      "source": [
        "# About Me\n",
        "\n",
        "## Poo Kuan Hoong, Ph.D\n",
        "Connect with me:\n",
        "- [Twitter](https://twitter.com/kuanhoong)\n",
        "- [LinkedIn](https://www.linkedin.com/in/kuanhoong/)\n",
        "- [GitHub](https://github.com/kuanhoong/)"
      ],
      "metadata": {
        "id": "9iyQqPwvOEl6"
      }
    }
  ]
}