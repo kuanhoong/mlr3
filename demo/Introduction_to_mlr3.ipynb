{
  "metadata": {
    "kernelspec": {
      "name": "ir",
      "display_name": "R",
      "language": "R"
    },
    "language_info": {
      "name": "R",
      "codemirror_mode": "r",
      "pygments_lexer": "r",
      "mimetype": "text/x-r-source",
      "file_extension": ".r",
      "version": "4.0.5"
    },
    "colab": {
      "provenance": [],
      "collapsed_sections": [
        "CI0JBSIyOElg",
        "-i0f-GosOElh",
        "mTRh95QqOEli",
        "7WldfzG9OElk",
        "9l6GrWQEOElm",
        "VV4aDSI0OElo",
        "i5WCdRilOElp",
        "jeqbYcL0OEls",
        "fFMU6psgOElt",
        "kSEC_ozNOElv",
        "MNMaCaIqOElw",
        "Twa-S_7WOEly",
        "Gtw5v04dOElz",
        "usl-iZpdOEl1",
        "yE-OcL3lOEl1",
        "ZYBDBYc8OEl2",
        "615RiuzfOEl4",
        "0cKHifj0OEl4",
        "b8mbrhfr1QNg",
        "asS49lbRW9Kf",
        "iM57hlcNYPz_",
        "ld1slS8MRO_H",
        "82Roug3eRZpE",
        "byS8sLx-RhZ1",
        "FSC0XhVXRmgw",
        "DyDQoZk2Rr2l",
        "kssUq4fMRwvS",
        "lUSKppbIR2m_",
        "urxYExfROEl5",
        "05K2XDgQOEl5",
        "9iyQqPwvOEl6"
      ],
      "include_colab_link": true
    }
  },
  "nbformat_minor": 0,
  "nbformat": 4,
  "cells": [
    {
      "cell_type": "markdown",
      "metadata": {
        "id": "view-in-github",
        "colab_type": "text"
      },
      "source": [
        "<a href=\"https://colab.research.google.com/github/kuanhoong/mlr3/blob/main/demo/Introduction_to_mlr3.ipynb\" target=\"_parent\"><img src=\"https://colab.research.google.com/assets/colab-badge.svg\" alt=\"Open In Colab\"/></a>"
      ]
    },
    {
      "cell_type": "markdown",
      "source": [
        "# Introduction to Machine Learning with mlr3"
      ],
      "metadata": {
        "id": "54G0J1xN9Cax"
      }
    },
    {
      "cell_type": "markdown",
      "source": [
        "![](https://mlr3.mlr-org.com/reference/figures/mlr3verse.svg)"
      ],
      "metadata": {
        "id": "dYUrWHS8ASgD"
      }
    },
    {
      "cell_type": "markdown",
      "source": [
        "[mlr3](https://mlr3.mlr-org.com/) is an R package that makes machine learning easier. It provides a unified interface to existing machine learning algorithms and makes it easy to experiment with different models. mlr3 also provides a number of features that make it easier to evaluate and compare different models."
      ],
      "metadata": {
        "id": "K4-p7_ss9IUe"
      }
    },
    {
      "cell_type": "markdown",
      "source": [
        "# Resource\n",
        "- [slides](https://docs.google.com/presentation/d/1fUIBp-oZ8cygwnNzUH7Y7jk2s_ZhshswcsANuMpImFA/edit?usp=sharing)\n",
        "- [Github](https://github.com/kuanhoong/mlr3)"
      ],
      "metadata": {
        "id": "WhwnCz-fUQIw"
      }
    },
    {
      "cell_type": "markdown",
      "source": [
        "## Installation\n",
        "\n",
        "- Install [R](https://cran.r-project.org/mirrors.html) from here.\n",
        "- Install [RStudio](https://www.rstudio.com/products/rstudio/download/) from here.\n",
        "- Follow kuanhoong's github repo [here](https://github.com/kuanhoong/mlr3) to test your set-up (note: it is not necessary to establish communication between Kaggle and Github for this session).\n",
        "- Install all the packages in the mlr3 by running `install.packages(\"mlr3\")` and `install.packages(\"mlr3verse\")` in Kaggle/Google Colab notebook."
      ],
      "metadata": {
        "id": "fAMRvkimOElY"
      }
    },
    {
      "cell_type": "code",
      "source": [
        "install.packages(\"mlr3\")\n",
        "install.packages(\"mlr3verse\")\n",
        "library(mlr3)\n",
        "library(mlr3verse)"
      ],
      "metadata": {
        "trusted": true,
        "id": "dmOd45EoOElZ",
        "colab": {
          "base_uri": "https://localhost:8080/"
        },
        "outputId": "2c830e4d-f5dc-43f1-dabf-37dd21baefc6"
      },
      "execution_count": 14,
      "outputs": [
        {
          "output_type": "stream",
          "name": "stderr",
          "text": [
            "Installing package into ‘/usr/local/lib/R/site-library’\n",
            "(as ‘lib’ is unspecified)\n",
            "\n",
            "Installing package into ‘/usr/local/lib/R/site-library’\n",
            "(as ‘lib’ is unspecified)\n",
            "\n",
            "also installing the dependencies ‘modeltools’, ‘DEoptimR’, ‘mclust’, ‘flexmix’, ‘prabclus’, ‘diptest’, ‘robustbase’, ‘kernlab’, ‘gridExtra’, ‘clue’, ‘fpc’, ‘viridis’, ‘bbotk’, ‘mlr3cluster’, ‘mlr3data’, ‘mlr3filters’, ‘mlr3fselect’, ‘mlr3hyperband’, ‘mlr3learners’, ‘mlr3mbo’, ‘mlr3pipelines’, ‘mlr3tuning’, ‘mlr3tuningspaces’, ‘mlr3viz’\n",
            "\n",
            "\n"
          ]
        }
      ]
    },
    {
      "cell_type": "markdown",
      "source": [
        "## Example 1: Iris"
      ],
      "metadata": {
        "id": "_VlNRuI6E2DN"
      }
    },
    {
      "cell_type": "code",
      "source": [
        "print(iris) ##included in R"
      ],
      "metadata": {
        "colab": {
          "base_uri": "https://localhost:8080/"
        },
        "id": "LfhAiVaCD0Op",
        "outputId": "4895c3c7-d22c-4fe5-a010-f06c9559abf5"
      },
      "execution_count": 15,
      "outputs": [
        {
          "output_type": "stream",
          "name": "stdout",
          "text": [
            "    Sepal.Length Sepal.Width Petal.Length Petal.Width    Species\n",
            "1            5.1         3.5          1.4         0.2     setosa\n",
            "2            4.9         3.0          1.4         0.2     setosa\n",
            "3            4.7         3.2          1.3         0.2     setosa\n",
            "4            4.6         3.1          1.5         0.2     setosa\n",
            "5            5.0         3.6          1.4         0.2     setosa\n",
            "6            5.4         3.9          1.7         0.4     setosa\n",
            "7            4.6         3.4          1.4         0.3     setosa\n",
            "8            5.0         3.4          1.5         0.2     setosa\n",
            "9            4.4         2.9          1.4         0.2     setosa\n",
            "10           4.9         3.1          1.5         0.1     setosa\n",
            "11           5.4         3.7          1.5         0.2     setosa\n",
            "12           4.8         3.4          1.6         0.2     setosa\n",
            "13           4.8         3.0          1.4         0.1     setosa\n",
            "14           4.3         3.0          1.1         0.1     setosa\n",
            "15           5.8         4.0          1.2         0.2     setosa\n",
            "16           5.7         4.4          1.5         0.4     setosa\n",
            "17           5.4         3.9          1.3         0.4     setosa\n",
            "18           5.1         3.5          1.4         0.3     setosa\n",
            "19           5.7         3.8          1.7         0.3     setosa\n",
            "20           5.1         3.8          1.5         0.3     setosa\n",
            "21           5.4         3.4          1.7         0.2     setosa\n",
            "22           5.1         3.7          1.5         0.4     setosa\n",
            "23           4.6         3.6          1.0         0.2     setosa\n",
            "24           5.1         3.3          1.7         0.5     setosa\n",
            "25           4.8         3.4          1.9         0.2     setosa\n",
            "26           5.0         3.0          1.6         0.2     setosa\n",
            "27           5.0         3.4          1.6         0.4     setosa\n",
            "28           5.2         3.5          1.5         0.2     setosa\n",
            "29           5.2         3.4          1.4         0.2     setosa\n",
            "30           4.7         3.2          1.6         0.2     setosa\n",
            "31           4.8         3.1          1.6         0.2     setosa\n",
            "32           5.4         3.4          1.5         0.4     setosa\n",
            "33           5.2         4.1          1.5         0.1     setosa\n",
            "34           5.5         4.2          1.4         0.2     setosa\n",
            "35           4.9         3.1          1.5         0.2     setosa\n",
            "36           5.0         3.2          1.2         0.2     setosa\n",
            "37           5.5         3.5          1.3         0.2     setosa\n",
            "38           4.9         3.6          1.4         0.1     setosa\n",
            "39           4.4         3.0          1.3         0.2     setosa\n",
            "40           5.1         3.4          1.5         0.2     setosa\n",
            "41           5.0         3.5          1.3         0.3     setosa\n",
            "42           4.5         2.3          1.3         0.3     setosa\n",
            "43           4.4         3.2          1.3         0.2     setosa\n",
            "44           5.0         3.5          1.6         0.6     setosa\n",
            "45           5.1         3.8          1.9         0.4     setosa\n",
            "46           4.8         3.0          1.4         0.3     setosa\n",
            "47           5.1         3.8          1.6         0.2     setosa\n",
            "48           4.6         3.2          1.4         0.2     setosa\n",
            "49           5.3         3.7          1.5         0.2     setosa\n",
            "50           5.0         3.3          1.4         0.2     setosa\n",
            "51           7.0         3.2          4.7         1.4 versicolor\n",
            "52           6.4         3.2          4.5         1.5 versicolor\n",
            "53           6.9         3.1          4.9         1.5 versicolor\n",
            "54           5.5         2.3          4.0         1.3 versicolor\n",
            "55           6.5         2.8          4.6         1.5 versicolor\n",
            "56           5.7         2.8          4.5         1.3 versicolor\n",
            "57           6.3         3.3          4.7         1.6 versicolor\n",
            "58           4.9         2.4          3.3         1.0 versicolor\n",
            "59           6.6         2.9          4.6         1.3 versicolor\n",
            "60           5.2         2.7          3.9         1.4 versicolor\n",
            "61           5.0         2.0          3.5         1.0 versicolor\n",
            "62           5.9         3.0          4.2         1.5 versicolor\n",
            "63           6.0         2.2          4.0         1.0 versicolor\n",
            "64           6.1         2.9          4.7         1.4 versicolor\n",
            "65           5.6         2.9          3.6         1.3 versicolor\n",
            "66           6.7         3.1          4.4         1.4 versicolor\n",
            "67           5.6         3.0          4.5         1.5 versicolor\n",
            "68           5.8         2.7          4.1         1.0 versicolor\n",
            "69           6.2         2.2          4.5         1.5 versicolor\n",
            "70           5.6         2.5          3.9         1.1 versicolor\n",
            "71           5.9         3.2          4.8         1.8 versicolor\n",
            "72           6.1         2.8          4.0         1.3 versicolor\n",
            "73           6.3         2.5          4.9         1.5 versicolor\n",
            "74           6.1         2.8          4.7         1.2 versicolor\n",
            "75           6.4         2.9          4.3         1.3 versicolor\n",
            "76           6.6         3.0          4.4         1.4 versicolor\n",
            "77           6.8         2.8          4.8         1.4 versicolor\n",
            "78           6.7         3.0          5.0         1.7 versicolor\n",
            "79           6.0         2.9          4.5         1.5 versicolor\n",
            "80           5.7         2.6          3.5         1.0 versicolor\n",
            "81           5.5         2.4          3.8         1.1 versicolor\n",
            "82           5.5         2.4          3.7         1.0 versicolor\n",
            "83           5.8         2.7          3.9         1.2 versicolor\n",
            "84           6.0         2.7          5.1         1.6 versicolor\n",
            "85           5.4         3.0          4.5         1.5 versicolor\n",
            "86           6.0         3.4          4.5         1.6 versicolor\n",
            "87           6.7         3.1          4.7         1.5 versicolor\n",
            "88           6.3         2.3          4.4         1.3 versicolor\n",
            "89           5.6         3.0          4.1         1.3 versicolor\n",
            "90           5.5         2.5          4.0         1.3 versicolor\n",
            "91           5.5         2.6          4.4         1.2 versicolor\n",
            "92           6.1         3.0          4.6         1.4 versicolor\n",
            "93           5.8         2.6          4.0         1.2 versicolor\n",
            "94           5.0         2.3          3.3         1.0 versicolor\n",
            "95           5.6         2.7          4.2         1.3 versicolor\n",
            "96           5.7         3.0          4.2         1.2 versicolor\n",
            "97           5.7         2.9          4.2         1.3 versicolor\n",
            "98           6.2         2.9          4.3         1.3 versicolor\n",
            "99           5.1         2.5          3.0         1.1 versicolor\n",
            "100          5.7         2.8          4.1         1.3 versicolor\n",
            "101          6.3         3.3          6.0         2.5  virginica\n",
            "102          5.8         2.7          5.1         1.9  virginica\n",
            "103          7.1         3.0          5.9         2.1  virginica\n",
            "104          6.3         2.9          5.6         1.8  virginica\n",
            "105          6.5         3.0          5.8         2.2  virginica\n",
            "106          7.6         3.0          6.6         2.1  virginica\n",
            "107          4.9         2.5          4.5         1.7  virginica\n",
            "108          7.3         2.9          6.3         1.8  virginica\n",
            "109          6.7         2.5          5.8         1.8  virginica\n",
            "110          7.2         3.6          6.1         2.5  virginica\n",
            "111          6.5         3.2          5.1         2.0  virginica\n",
            "112          6.4         2.7          5.3         1.9  virginica\n",
            "113          6.8         3.0          5.5         2.1  virginica\n",
            "114          5.7         2.5          5.0         2.0  virginica\n",
            "115          5.8         2.8          5.1         2.4  virginica\n",
            "116          6.4         3.2          5.3         2.3  virginica\n",
            "117          6.5         3.0          5.5         1.8  virginica\n",
            "118          7.7         3.8          6.7         2.2  virginica\n",
            "119          7.7         2.6          6.9         2.3  virginica\n",
            "120          6.0         2.2          5.0         1.5  virginica\n",
            "121          6.9         3.2          5.7         2.3  virginica\n",
            "122          5.6         2.8          4.9         2.0  virginica\n",
            "123          7.7         2.8          6.7         2.0  virginica\n",
            "124          6.3         2.7          4.9         1.8  virginica\n",
            "125          6.7         3.3          5.7         2.1  virginica\n",
            "126          7.2         3.2          6.0         1.8  virginica\n",
            "127          6.2         2.8          4.8         1.8  virginica\n",
            "128          6.1         3.0          4.9         1.8  virginica\n",
            "129          6.4         2.8          5.6         2.1  virginica\n",
            "130          7.2         3.0          5.8         1.6  virginica\n",
            "131          7.4         2.8          6.1         1.9  virginica\n",
            "132          7.9         3.8          6.4         2.0  virginica\n",
            "133          6.4         2.8          5.6         2.2  virginica\n",
            "134          6.3         2.8          5.1         1.5  virginica\n",
            "135          6.1         2.6          5.6         1.4  virginica\n",
            "136          7.7         3.0          6.1         2.3  virginica\n",
            "137          6.3         3.4          5.6         2.4  virginica\n",
            "138          6.4         3.1          5.5         1.8  virginica\n",
            "139          6.0         3.0          4.8         1.8  virginica\n",
            "140          6.9         3.1          5.4         2.1  virginica\n",
            "141          6.7         3.1          5.6         2.4  virginica\n",
            "142          6.9         3.1          5.1         2.3  virginica\n",
            "143          5.8         2.7          5.1         1.9  virginica\n",
            "144          6.8         3.2          5.9         2.3  virginica\n",
            "145          6.7         3.3          5.7         2.5  virginica\n",
            "146          6.7         3.0          5.2         2.3  virginica\n",
            "147          6.3         2.5          5.0         1.9  virginica\n",
            "148          6.5         3.0          5.2         2.0  virginica\n",
            "149          6.2         3.4          5.4         2.3  virginica\n",
            "150          5.9         3.0          5.1         1.8  virginica\n"
          ]
        }
      ]
    },
    {
      "cell_type": "markdown",
      "source": [
        "## Constructing Learners and Tasks"
      ],
      "metadata": {
        "id": "jJ6UHjk2OEla"
      }
    },
    {
      "cell_type": "code",
      "source": [
        "task = TaskClassif$new(\"iris\", iris, \"Species\")"
      ],
      "metadata": {
        "id": "iSQ13fTMEDAp"
      },
      "execution_count": 16,
      "outputs": []
    },
    {
      "cell_type": "code",
      "source": [
        "task"
      ],
      "metadata": {
        "colab": {
          "base_uri": "https://localhost:8080/",
          "height": 104
        },
        "id": "zTXm82V5EeNq",
        "outputId": "31322087-ac4e-4d18-a864-23cec28bd008"
      },
      "execution_count": 17,
      "outputs": [
        {
          "output_type": "display_data",
          "data": {
            "text/plain": [
              "<TaskClassif:iris> (150 x 5)\n",
              "* Target: Species\n",
              "* Properties: multiclass\n",
              "* Features (4):\n",
              "  - dbl (4): Petal.Length, Petal.Width, Sepal.Length, Sepal.Width"
            ]
          },
          "metadata": {}
        }
      ]
    },
    {
      "cell_type": "code",
      "source": [
        "task$nrow"
      ],
      "metadata": {
        "colab": {
          "base_uri": "https://localhost:8080/",
          "height": 34
        },
        "id": "gg8mYv90EUGH",
        "outputId": "6cd3d341-9e92-41ce-bd69-a81ea4128389"
      },
      "execution_count": 18,
      "outputs": [
        {
          "output_type": "display_data",
          "data": {
            "text/html": [
              "150"
            ],
            "text/markdown": "150",
            "text/latex": "150",
            "text/plain": [
              "[1] 150"
            ]
          },
          "metadata": {}
        }
      ]
    },
    {
      "cell_type": "code",
      "source": [
        "task$ncol"
      ],
      "metadata": {
        "colab": {
          "base_uri": "https://localhost:8080/",
          "height": 34
        },
        "id": "tHupx5igEXMH",
        "outputId": "3a06dd93-7ab6-4103-c16a-9816d1f298b0"
      },
      "execution_count": 19,
      "outputs": [
        {
          "output_type": "display_data",
          "data": {
            "text/html": [
              "5"
            ],
            "text/markdown": "5",
            "text/latex": "5",
            "text/plain": [
              "[1] 5"
            ]
          },
          "metadata": {}
        }
      ]
    },
    {
      "cell_type": "markdown",
      "source": [
        "## Basic train + predict"
      ],
      "metadata": {
        "id": "LA_Ya7C6OElc"
      }
    },
    {
      "cell_type": "code",
      "source": [
        "learner = lrn(\"classif.rpart\")"
      ],
      "metadata": {
        "id": "H8GVHusmFFPC"
      },
      "execution_count": 27,
      "outputs": []
    },
    {
      "cell_type": "code",
      "source": [
        "## train \n",
        "learner$train(task)"
      ],
      "metadata": {
        "id": "oFu9-vcvHSBu"
      },
      "execution_count": 28,
      "outputs": []
    },
    {
      "cell_type": "code",
      "source": [
        "print(learner$model)"
      ],
      "metadata": {
        "colab": {
          "base_uri": "https://localhost:8080/"
        },
        "id": "GNNWHI9PHcA6",
        "outputId": "9b6e5dfd-eb8a-4d93-d517-2dc967240786"
      },
      "execution_count": 29,
      "outputs": [
        {
          "output_type": "stream",
          "name": "stdout",
          "text": [
            "n= 150 \n",
            "\n",
            "node), split, n, loss, yval, (yprob)\n",
            "      * denotes terminal node\n",
            "\n",
            "1) root 150 100 setosa (0.33333333 0.33333333 0.33333333)  \n",
            "  2) Petal.Length< 2.45 50   0 setosa (1.00000000 0.00000000 0.00000000) *\n",
            "  3) Petal.Length>=2.45 100  50 versicolor (0.00000000 0.50000000 0.50000000)  \n",
            "    6) Petal.Width< 1.75 54   5 versicolor (0.00000000 0.90740741 0.09259259) *\n",
            "    7) Petal.Width>=1.75 46   1 virginica (0.00000000 0.02173913 0.97826087) *\n"
          ]
        }
      ]
    },
    {
      "cell_type": "code",
      "source": [
        "## check hyperparameters\n",
        "as.data.table(learner$param_set)"
      ],
      "metadata": {
        "colab": {
          "base_uri": "https://localhost:8080/",
          "height": 411
        },
        "id": "_Dx5pE3DHm4r",
        "outputId": "b7f7b483-1bd6-4ef3-e54f-1ef226572028"
      },
      "execution_count": 30,
      "outputs": [
        {
          "output_type": "display_data",
          "data": {
            "text/html": [
              "<table class=\"dataframe\">\n",
              "<caption>A data.table: 10 × 11</caption>\n",
              "<thead>\n",
              "\t<tr><th scope=col>id</th><th scope=col>class</th><th scope=col>lower</th><th scope=col>upper</th><th scope=col>levels</th><th scope=col>nlevels</th><th scope=col>is_bounded</th><th scope=col>special_vals</th><th scope=col>default</th><th scope=col>storage_type</th><th scope=col>tags</th></tr>\n",
              "\t<tr><th scope=col>&lt;chr&gt;</th><th scope=col>&lt;chr&gt;</th><th scope=col>&lt;dbl&gt;</th><th scope=col>&lt;dbl&gt;</th><th scope=col>&lt;list&gt;</th><th scope=col>&lt;dbl&gt;</th><th scope=col>&lt;lgl&gt;</th><th scope=col>&lt;list&gt;</th><th scope=col>&lt;list&gt;</th><th scope=col>&lt;chr&gt;</th><th scope=col>&lt;list&gt;</th></tr>\n",
              "</thead>\n",
              "<tbody>\n",
              "\t<tr><td>cp            </td><td>ParamDbl</td><td> 0</td><td>  1</td><td>NULL</td><td>Inf</td><td> TRUE</td><td>NULL</td><td>0.01</td><td>numeric</td><td>train</td></tr>\n",
              "\t<tr><td>keep_model    </td><td>ParamLgl</td><td>NA</td><td> NA</td><td>TRUE, FALSE</td><td>  2</td><td> TRUE</td><td>NULL</td><td>FALSE</td><td>logical</td><td>train</td></tr>\n",
              "\t<tr><td>maxcompete    </td><td>ParamInt</td><td> 0</td><td>Inf</td><td>NULL</td><td>Inf</td><td>FALSE</td><td>NULL</td><td>4</td><td>integer</td><td>train</td></tr>\n",
              "\t<tr><td>maxdepth      </td><td>ParamInt</td><td> 1</td><td> 30</td><td>NULL</td><td> 30</td><td> TRUE</td><td>NULL</td><td>30</td><td>integer</td><td>train</td></tr>\n",
              "\t<tr><td>maxsurrogate  </td><td>ParamInt</td><td> 0</td><td>Inf</td><td>NULL</td><td>Inf</td><td>FALSE</td><td>NULL</td><td>5</td><td>integer</td><td>train</td></tr>\n",
              "\t<tr><td><span style=white-space:pre-wrap>minbucket     </span></td><td>ParamInt</td><td> 1</td><td>Inf</td><td>NULL</td><td>Inf</td><td>FALSE</td><td>NULL</td><td>&lt;environment: 0x556dcab2c490&gt;</td><td>integer</td><td>train</td></tr>\n",
              "\t<tr><td>minsplit      </td><td>ParamInt</td><td> 1</td><td>Inf</td><td>NULL</td><td>Inf</td><td>FALSE</td><td>NULL</td><td>20</td><td>integer</td><td>train</td></tr>\n",
              "\t<tr><td>surrogatestyle</td><td>ParamInt</td><td> 0</td><td>  1</td><td>NULL</td><td>  2</td><td> TRUE</td><td>NULL</td><td>0</td><td>integer</td><td>train</td></tr>\n",
              "\t<tr><td>usesurrogate  </td><td>ParamInt</td><td> 0</td><td>  2</td><td>NULL</td><td>  3</td><td> TRUE</td><td>NULL</td><td>2</td><td>integer</td><td>train</td></tr>\n",
              "\t<tr><td>xval          </td><td>ParamInt</td><td> 0</td><td>Inf</td><td>NULL</td><td>Inf</td><td>FALSE</td><td>NULL</td><td>10</td><td>integer</td><td>train</td></tr>\n",
              "</tbody>\n",
              "</table>\n"
            ],
            "text/markdown": "\nA data.table: 10 × 11\n\n| id &lt;chr&gt; | class &lt;chr&gt; | lower &lt;dbl&gt; | upper &lt;dbl&gt; | levels &lt;list&gt; | nlevels &lt;dbl&gt; | is_bounded &lt;lgl&gt; | special_vals &lt;list&gt; | default &lt;list&gt; | storage_type &lt;chr&gt; | tags &lt;list&gt; |\n|---|---|---|---|---|---|---|---|---|---|---|\n| cp             | ParamDbl |  0 |   1 | NULL | Inf |  TRUE | NULL | 0.01 | numeric | train |\n| keep_model     | ParamLgl | NA |  NA | TRUE, FALSE |   2 |  TRUE | NULL | FALSE | logical | train |\n| maxcompete     | ParamInt |  0 | Inf | NULL | Inf | FALSE | NULL | 4 | integer | train |\n| maxdepth       | ParamInt |  1 |  30 | NULL |  30 |  TRUE | NULL | 30 | integer | train |\n| maxsurrogate   | ParamInt |  0 | Inf | NULL | Inf | FALSE | NULL | 5 | integer | train |\n| minbucket      | ParamInt |  1 | Inf | NULL | Inf | FALSE | NULL | &lt;environment: 0x556dcab2c490&gt; | integer | train |\n| minsplit       | ParamInt |  1 | Inf | NULL | Inf | FALSE | NULL | 20 | integer | train |\n| surrogatestyle | ParamInt |  0 |   1 | NULL |   2 |  TRUE | NULL | 0 | integer | train |\n| usesurrogate   | ParamInt |  0 |   2 | NULL |   3 |  TRUE | NULL | 2 | integer | train |\n| xval           | ParamInt |  0 | Inf | NULL | Inf | FALSE | NULL | 10 | integer | train |\n\n",
            "text/latex": "A data.table: 10 × 11\n\\begin{tabular}{lllllllllll}\n id & class & lower & upper & levels & nlevels & is\\_bounded & special\\_vals & default & storage\\_type & tags\\\\\n <chr> & <chr> & <dbl> & <dbl> & <list> & <dbl> & <lgl> & <list> & <list> & <chr> & <list>\\\\\n\\hline\n\t cp             & ParamDbl &  0 &   1 & NULL & Inf &  TRUE & NULL & 0.01 & numeric & train\\\\\n\t keep\\_model     & ParamLgl & NA &  NA & TRUE, FALSE &   2 &  TRUE & NULL & FALSE & logical & train\\\\\n\t maxcompete     & ParamInt &  0 & Inf & NULL & Inf & FALSE & NULL & 4 & integer & train\\\\\n\t maxdepth       & ParamInt &  1 &  30 & NULL &  30 &  TRUE & NULL & 30 & integer & train\\\\\n\t maxsurrogate   & ParamInt &  0 & Inf & NULL & Inf & FALSE & NULL & 5 & integer & train\\\\\n\t minbucket      & ParamInt &  1 & Inf & NULL & Inf & FALSE & NULL & <environment: 0x556dcab2c490> & integer & train\\\\\n\t minsplit       & ParamInt &  1 & Inf & NULL & Inf & FALSE & NULL & 20 & integer & train\\\\\n\t surrogatestyle & ParamInt &  0 &   1 & NULL &   2 &  TRUE & NULL & 0 & integer & train\\\\\n\t usesurrogate   & ParamInt &  0 &   2 & NULL &   3 &  TRUE & NULL & 2 & integer & train\\\\\n\t xval           & ParamInt &  0 & Inf & NULL & Inf & FALSE & NULL & 10 & integer & train\\\\\n\\end{tabular}\n",
            "text/plain": [
              "   id             class    lower upper levels      nlevels is_bounded\n",
              "1  cp             ParamDbl  0      1   NULL        Inf      TRUE     \n",
              "2  keep_model     ParamLgl NA     NA   TRUE, FALSE   2      TRUE     \n",
              "3  maxcompete     ParamInt  0    Inf   NULL        Inf     FALSE     \n",
              "4  maxdepth       ParamInt  1     30   NULL         30      TRUE     \n",
              "5  maxsurrogate   ParamInt  0    Inf   NULL        Inf     FALSE     \n",
              "6  minbucket      ParamInt  1    Inf   NULL        Inf     FALSE     \n",
              "7  minsplit       ParamInt  1    Inf   NULL        Inf     FALSE     \n",
              "8  surrogatestyle ParamInt  0      1   NULL          2      TRUE     \n",
              "9  usesurrogate   ParamInt  0      2   NULL          3      TRUE     \n",
              "10 xval           ParamInt  0    Inf   NULL        Inf     FALSE     \n",
              "   special_vals default                       storage_type tags \n",
              "1  NULL         0.01                          numeric      train\n",
              "2  NULL         FALSE                         logical      train\n",
              "3  NULL         4                             integer      train\n",
              "4  NULL         30                            integer      train\n",
              "5  NULL         5                             integer      train\n",
              "6  NULL         <environment: 0x556dcab2c490> integer      train\n",
              "7  NULL         20                            integer      train\n",
              "8  NULL         0                             integer      train\n",
              "9  NULL         2                             integer      train\n",
              "10 NULL         10                            integer      train"
            ]
          },
          "metadata": {}
        }
      ]
    },
    {
      "cell_type": "code",
      "source": [
        "## change learner behaviour\n",
        "learner$param_set$values = list(maxdepth = 1, xval = 0)"
      ],
      "metadata": {
        "id": "9jBrVeytHzgS"
      },
      "execution_count": 37,
      "outputs": []
    },
    {
      "cell_type": "code",
      "source": [
        "## train \n",
        "learner$train(task)"
      ],
      "metadata": {
        "id": "SAzZPwbqIMCV"
      },
      "execution_count": 38,
      "outputs": []
    },
    {
      "cell_type": "code",
      "source": [
        "print(learner$model)"
      ],
      "metadata": {
        "colab": {
          "base_uri": "https://localhost:8080/"
        },
        "id": "KP08xE9SIPy0",
        "outputId": "5161d724-ee82-49cd-b2da-fcfa4fd31f75"
      },
      "execution_count": 39,
      "outputs": [
        {
          "output_type": "stream",
          "name": "stdout",
          "text": [
            "n= 150 \n",
            "\n",
            "node), split, n, loss, yval, (yprob)\n",
            "      * denotes terminal node\n",
            "\n",
            "1) root 150 100 setosa (0.3333333 0.3333333 0.3333333)  \n",
            "  2) Petal.Length< 2.45 50   0 setosa (1.0000000 0.0000000 0.0000000) *\n",
            "  3) Petal.Length>=2.45 100  50 versicolor (0.0000000 0.5000000 0.5000000) *\n"
          ]
        }
      ]
    },
    {
      "cell_type": "code",
      "source": [
        "install.packages(\"data.table\")\n",
        "library(data.table)"
      ],
      "metadata": {
        "colab": {
          "base_uri": "https://localhost:8080/"
        },
        "id": "OBYu0g3qJzjl",
        "outputId": "874f1ed1-0bb1-4087-d0bf-7ff4c1c612b8"
      },
      "execution_count": 42,
      "outputs": [
        {
          "output_type": "stream",
          "name": "stderr",
          "text": [
            "Installing package into ‘/usr/local/lib/R/site-library’\n",
            "(as ‘lib’ is unspecified)\n",
            "\n"
          ]
        }
      ]
    },
    {
      "cell_type": "code",
      "source": [
        "## create new_data\n",
        "new_data = data.table(\"Sepal.Length\"=c(4,2), \"Sepal.Width\"=c(3,2), \"Petal.Length\"=c(2,3), \"Petal.Width\" =c(1,2))\n",
        "new_data\n"
      ],
      "metadata": {
        "colab": {
          "base_uri": "https://localhost:8080/",
          "height": 160
        },
        "id": "3AR_Xub9IsdL",
        "outputId": "e4284b0b-6ef4-4023-b2ed-1044469b8c36"
      },
      "execution_count": 43,
      "outputs": [
        {
          "output_type": "display_data",
          "data": {
            "text/html": [
              "<table class=\"dataframe\">\n",
              "<caption>A data.table: 2 × 4</caption>\n",
              "<thead>\n",
              "\t<tr><th scope=col>Sepal.Length</th><th scope=col>Sepal.Width</th><th scope=col>Petal.Length</th><th scope=col>Petal.Width</th></tr>\n",
              "\t<tr><th scope=col>&lt;dbl&gt;</th><th scope=col>&lt;dbl&gt;</th><th scope=col>&lt;dbl&gt;</th><th scope=col>&lt;dbl&gt;</th></tr>\n",
              "</thead>\n",
              "<tbody>\n",
              "\t<tr><td>4</td><td>3</td><td>2</td><td>1</td></tr>\n",
              "\t<tr><td>2</td><td>2</td><td>3</td><td>2</td></tr>\n",
              "</tbody>\n",
              "</table>\n"
            ],
            "text/markdown": "\nA data.table: 2 × 4\n\n| Sepal.Length &lt;dbl&gt; | Sepal.Width &lt;dbl&gt; | Petal.Length &lt;dbl&gt; | Petal.Width &lt;dbl&gt; |\n|---|---|---|---|\n| 4 | 3 | 2 | 1 |\n| 2 | 2 | 3 | 2 |\n\n",
            "text/latex": "A data.table: 2 × 4\n\\begin{tabular}{llll}\n Sepal.Length & Sepal.Width & Petal.Length & Petal.Width\\\\\n <dbl> & <dbl> & <dbl> & <dbl>\\\\\n\\hline\n\t 4 & 3 & 2 & 1\\\\\n\t 2 & 2 & 3 & 2\\\\\n\\end{tabular}\n",
            "text/plain": [
              "  Sepal.Length Sepal.Width Petal.Length Petal.Width\n",
              "1 4            3           2            1          \n",
              "2 2            2           3            2          "
            ]
          },
          "metadata": {}
        }
      ]
    },
    {
      "cell_type": "code",
      "source": [
        "## prediction\n",
        "\n",
        "prediction = learner$predict_newdata(new_data)\n",
        "prediction"
      ],
      "metadata": {
        "colab": {
          "base_uri": "https://localhost:8080/",
          "height": 86
        },
        "id": "rEeJglbBKLEX",
        "outputId": "bc938c93-1fd4-4d68-dfc5-f55a16ec0406"
      },
      "execution_count": 44,
      "outputs": [
        {
          "output_type": "display_data",
          "data": {
            "text/plain": [
              "<PredictionClassif> for 2 observations:\n",
              " row_ids truth   response\n",
              "       1  <NA>     setosa\n",
              "       2  <NA> versicolor"
            ]
          },
          "metadata": {}
        }
      ]
    },
    {
      "cell_type": "code",
      "source": [
        "## change prediction type\n",
        "learner$predict_type = \"prob\"\n",
        "prediction = learner$predict_newdata(new_data)\n",
        "prediction"
      ],
      "metadata": {
        "colab": {
          "base_uri": "https://localhost:8080/",
          "height": 86
        },
        "id": "dxLaqXPvKZhj",
        "outputId": "ab6d96fb-b6c1-4275-ac08-01e331c429da"
      },
      "execution_count": 45,
      "outputs": [
        {
          "output_type": "display_data",
          "data": {
            "text/plain": [
              "<PredictionClassif> for 2 observations:\n",
              " row_ids truth   response prob.setosa prob.versicolor prob.virginica\n",
              "       1  <NA>     setosa           1             0.0            0.0\n",
              "       2  <NA> versicolor           0             0.5            0.5"
            ]
          },
          "metadata": {}
        }
      ]
    },
    {
      "cell_type": "code",
      "source": [
        "## view prediction object by using data.table\n",
        "\n",
        "as.data.table(prediction)"
      ],
      "metadata": {
        "colab": {
          "base_uri": "https://localhost:8080/",
          "height": 160
        },
        "id": "YFAq1lNNKrBD",
        "outputId": "76c9baa2-a88e-4605-b549-df2da4a67c87"
      },
      "execution_count": 46,
      "outputs": [
        {
          "output_type": "display_data",
          "data": {
            "text/html": [
              "<table class=\"dataframe\">\n",
              "<caption>A data.table: 2 × 6</caption>\n",
              "<thead>\n",
              "\t<tr><th scope=col>row_ids</th><th scope=col>truth</th><th scope=col>response</th><th scope=col>prob.setosa</th><th scope=col>prob.versicolor</th><th scope=col>prob.virginica</th></tr>\n",
              "\t<tr><th scope=col>&lt;int&gt;</th><th scope=col>&lt;fct&gt;</th><th scope=col>&lt;fct&gt;</th><th scope=col>&lt;dbl&gt;</th><th scope=col>&lt;dbl&gt;</th><th scope=col>&lt;dbl&gt;</th></tr>\n",
              "</thead>\n",
              "<tbody>\n",
              "\t<tr><td>1</td><td>NA</td><td>setosa    </td><td>1</td><td>0.0</td><td>0.0</td></tr>\n",
              "\t<tr><td>2</td><td>NA</td><td>versicolor</td><td>0</td><td>0.5</td><td>0.5</td></tr>\n",
              "</tbody>\n",
              "</table>\n"
            ],
            "text/markdown": "\nA data.table: 2 × 6\n\n| row_ids &lt;int&gt; | truth &lt;fct&gt; | response &lt;fct&gt; | prob.setosa &lt;dbl&gt; | prob.versicolor &lt;dbl&gt; | prob.virginica &lt;dbl&gt; |\n|---|---|---|---|---|---|\n| 1 | NA | setosa     | 1 | 0.0 | 0.0 |\n| 2 | NA | versicolor | 0 | 0.5 | 0.5 |\n\n",
            "text/latex": "A data.table: 2 × 6\n\\begin{tabular}{llllll}\n row\\_ids & truth & response & prob.setosa & prob.versicolor & prob.virginica\\\\\n <int> & <fct> & <fct> & <dbl> & <dbl> & <dbl>\\\\\n\\hline\n\t 1 & NA & setosa     & 1 & 0.0 & 0.0\\\\\n\t 2 & NA & versicolor & 0 & 0.5 & 0.5\\\\\n\\end{tabular}\n",
            "text/plain": [
              "  row_ids truth response   prob.setosa prob.versicolor prob.virginica\n",
              "1 1       NA    setosa     1           0.0             0.0           \n",
              "2 2       NA    versicolor 0           0.5             0.5           "
            ]
          },
          "metadata": {}
        }
      ]
    },
    {
      "cell_type": "code",
      "source": [
        "prediction$response"
      ],
      "metadata": {
        "colab": {
          "base_uri": "https://localhost:8080/",
          "height": 69
        },
        "id": "wYpJF4n2K4sd",
        "outputId": "ab492bfe-d2d1-4390-b177-0ae937171f04"
      },
      "execution_count": 47,
      "outputs": [
        {
          "output_type": "display_data",
          "data": {
            "text/html": [
              "<style>\n",
              ".list-inline {list-style: none; margin:0; padding: 0}\n",
              ".list-inline>li {display: inline-block}\n",
              ".list-inline>li:not(:last-child)::after {content: \"\\00b7\"; padding: 0 .5ex}\n",
              "</style>\n",
              "<ol class=list-inline><li>setosa</li><li>versicolor</li></ol>\n",
              "\n",
              "<details>\n",
              "\t<summary style=display:list-item;cursor:pointer>\n",
              "\t\t<strong>Levels</strong>:\n",
              "\t</summary>\n",
              "\t<style>\n",
              "\t.list-inline {list-style: none; margin:0; padding: 0}\n",
              "\t.list-inline>li {display: inline-block}\n",
              "\t.list-inline>li:not(:last-child)::after {content: \"\\00b7\"; padding: 0 .5ex}\n",
              "\t</style>\n",
              "\t<ol class=list-inline><li>'setosa'</li><li>'versicolor'</li><li>'virginica'</li></ol>\n",
              "</details>"
            ],
            "text/markdown": "1. setosa\n2. versicolor\n\n\n\n**Levels**: 1. 'setosa'\n2. 'versicolor'\n3. 'virginica'\n\n\n",
            "text/latex": "\\begin{enumerate*}\n\\item setosa\n\\item versicolor\n\\end{enumerate*}\n\n\\emph{Levels}: \\begin{enumerate*}\n\\item 'setosa'\n\\item 'versicolor'\n\\item 'virginica'\n\\end{enumerate*}\n",
            "text/plain": [
              "[1] setosa     versicolor\n",
              "Levels: setosa versicolor virginica"
            ]
          },
          "metadata": {}
        }
      ]
    },
    {
      "cell_type": "markdown",
      "source": [
        "## Example 2: Penguins"
      ],
      "metadata": {
        "id": "lxzHm5opE-61"
      }
    },
    {
      "cell_type": "code",
      "source": [
        "# create learning task\n",
        "task_penguins = as_task_classif(species ~ ., data = palmerpenguins::penguins)\n",
        "task_penguins"
      ],
      "metadata": {
        "trusted": true,
        "id": "KYQK67kSOElb",
        "colab": {
          "base_uri": "https://localhost:8080/",
          "height": 138
        },
        "outputId": "ca15eaff-f555-49ff-cdf5-da8962ec565b"
      },
      "execution_count": 51,
      "outputs": [
        {
          "output_type": "display_data",
          "data": {
            "text/plain": [
              "<TaskClassif:palmerpenguins::penguins> (344 x 8)\n",
              "* Target: species\n",
              "* Properties: multiclass\n",
              "* Features (7):\n",
              "  - int (3): body_mass_g, flipper_length_mm, year\n",
              "  - dbl (2): bill_depth_mm, bill_length_mm\n",
              "  - fct (2): island, sex"
            ]
          },
          "metadata": {}
        }
      ]
    },
    {
      "cell_type": "code",
      "source": [
        "# load learner and set hyperparameter\n",
        "learner = lrn(\"classif.rpart\", cp = .01)"
      ],
      "metadata": {
        "trusted": true,
        "id": "G7D5SVsyOElb"
      },
      "execution_count": 52,
      "outputs": []
    },
    {
      "cell_type": "code",
      "source": [
        "# train/test split\n",
        "split = partition(task_penguins, ratio = 0.67)\n",
        "\n",
        "# train the model\n",
        "learner$train(task_penguins, split$train_set)\n",
        "\n",
        "# predict data\n",
        "prediction = learner$predict(task_penguins, split$test_set)\n",
        "\n",
        "# calculate performance\n",
        "prediction$confusion"
      ],
      "metadata": {
        "trusted": true,
        "id": "7xDZHEVvOElc",
        "colab": {
          "base_uri": "https://localhost:8080/",
          "height": 104
        },
        "outputId": "19be0379-fb22-4d93-f2d5-289cb2b871da"
      },
      "execution_count": 53,
      "outputs": [
        {
          "output_type": "display_data",
          "data": {
            "text/plain": [
              "           truth\n",
              "response    Adelie Chinstrap Gentoo\n",
              "  Adelie       146         5      0\n",
              "  Chinstrap      6        63      1\n",
              "  Gentoo         0         0    123"
            ]
          },
          "metadata": {}
        }
      ]
    },
    {
      "cell_type": "markdown",
      "source": [
        "measure the model performance"
      ],
      "metadata": {
        "id": "v7kdTvcYOEld"
      }
    },
    {
      "cell_type": "code",
      "source": [
        "measure = msr(\"classif.acc\")\n",
        "prediction$score(measure)"
      ],
      "metadata": {
        "trusted": true,
        "id": "IejWICGzOEld",
        "colab": {
          "base_uri": "https://localhost:8080/",
          "height": 34
        },
        "outputId": "29d61dd0-f2af-4978-85f8-0bea8082a9be"
      },
      "execution_count": 54,
      "outputs": [
        {
          "output_type": "display_data",
          "data": {
            "text/html": [
              "<strong>classif.acc:</strong> 0.965116279069767"
            ],
            "text/markdown": "**classif.acc:** 0.965116279069767",
            "text/latex": "\\textbf{classif.acc:} 0.965116279069767",
            "text/plain": [
              "classif.acc \n",
              "  0.9651163 "
            ]
          },
          "metadata": {}
        }
      ]
    },
    {
      "cell_type": "markdown",
      "source": [
        "# Resample"
      ],
      "metadata": {
        "id": "YtGljRSIOEle"
      }
    },
    {
      "cell_type": "code",
      "source": [
        "# 3-fold cross validation\n",
        "resampling = rsmp(\"cv\", folds = 3L)\n",
        "\n",
        "# run experiments\n",
        "rr = resample(task_penguins, learner, resampling)\n",
        "\n",
        "# access results\n",
        "rr$score(measure)[, .(task_id, learner_id, iteration, classif.acc)]"
      ],
      "metadata": {
        "colab": {
          "base_uri": "https://localhost:8080/",
          "height": 244
        },
        "id": "sKS2Gwqg-wu_",
        "outputId": "a5af7300-0138-40b7-ed06-d5f15017953f"
      },
      "execution_count": 55,
      "outputs": [
        {
          "output_type": "stream",
          "name": "stdout",
          "text": [
            "INFO  [02:32:17.913] [mlr3] Applying learner 'classif.rpart' on task 'palmerpenguins::penguins' (iter 1/3)\n",
            "INFO  [02:32:17.942] [mlr3] Applying learner 'classif.rpart' on task 'palmerpenguins::penguins' (iter 2/3)\n",
            "INFO  [02:32:17.970] [mlr3] Applying learner 'classif.rpart' on task 'palmerpenguins::penguins' (iter 3/3)\n"
          ]
        },
        {
          "output_type": "display_data",
          "data": {
            "text/html": [
              "<table class=\"dataframe\">\n",
              "<caption>A rr_score: 3 × 4</caption>\n",
              "<thead>\n",
              "\t<tr><th scope=col>task_id</th><th scope=col>learner_id</th><th scope=col>iteration</th><th scope=col>classif.acc</th></tr>\n",
              "\t<tr><th scope=col>&lt;chr&gt;</th><th scope=col>&lt;chr&gt;</th><th scope=col>&lt;int&gt;</th><th scope=col>&lt;dbl&gt;</th></tr>\n",
              "</thead>\n",
              "<tbody>\n",
              "\t<tr><td>palmerpenguins::penguins</td><td>classif.rpart</td><td>1</td><td>0.9478261</td></tr>\n",
              "\t<tr><td>palmerpenguins::penguins</td><td>classif.rpart</td><td>2</td><td>0.9391304</td></tr>\n",
              "\t<tr><td>palmerpenguins::penguins</td><td>classif.rpart</td><td>3</td><td>0.8859649</td></tr>\n",
              "</tbody>\n",
              "</table>\n"
            ],
            "text/markdown": "\nA rr_score: 3 × 4\n\n| task_id &lt;chr&gt; | learner_id &lt;chr&gt; | iteration &lt;int&gt; | classif.acc &lt;dbl&gt; |\n|---|---|---|---|\n| palmerpenguins::penguins | classif.rpart | 1 | 0.9478261 |\n| palmerpenguins::penguins | classif.rpart | 2 | 0.9391304 |\n| palmerpenguins::penguins | classif.rpart | 3 | 0.8859649 |\n\n",
            "text/latex": "A rr\\_score: 3 × 4\n\\begin{tabular}{llll}\n task\\_id & learner\\_id & iteration & classif.acc\\\\\n <chr> & <chr> & <int> & <dbl>\\\\\n\\hline\n\t palmerpenguins::penguins & classif.rpart & 1 & 0.9478261\\\\\n\t palmerpenguins::penguins & classif.rpart & 2 & 0.9391304\\\\\n\t palmerpenguins::penguins & classif.rpart & 3 & 0.8859649\\\\\n\\end{tabular}\n",
            "text/plain": [
              "  task_id                  learner_id    iteration classif.acc\n",
              "1 palmerpenguins::penguins classif.rpart 1         0.9478261  \n",
              "2 palmerpenguins::penguins classif.rpart 2         0.9391304  \n",
              "3 palmerpenguins::penguins classif.rpart 3         0.8859649  "
            ]
          },
          "metadata": {}
        }
      ]
    },
    {
      "cell_type": "markdown",
      "source": [
        "# Example 3\n",
        "\n",
        "Regression with mtcars data\n"
      ],
      "metadata": {
        "id": "CI0JBSIyOElg"
      }
    },
    {
      "cell_type": "code",
      "source": [
        "install.packages(\"ranger\")\n",
        "library(ranger)"
      ],
      "metadata": {
        "id": "u8vRBG1VfoK_"
      },
      "execution_count": null,
      "outputs": []
    },
    {
      "cell_type": "code",
      "source": [
        "library(mlr3verse)\n",
        "\n",
        "### Create Task ---------------------------------------------------------------#\n",
        "data(\"mtcars\", package = \"datasets\")\n",
        "task_mtcars = as_task_regr(mtcars, target = \"mpg\", id = \"cars\")"
      ],
      "metadata": {
        "trusted": true,
        "id": "rsX7Osz_OElh"
      },
      "execution_count": 58,
      "outputs": []
    },
    {
      "cell_type": "code",
      "source": [
        "task_mtcars\n",
        "task_mtcars$feature_names\n",
        "task_mtcars$target_names"
      ],
      "metadata": {
        "colab": {
          "base_uri": "https://localhost:8080/",
          "height": 138
        },
        "id": "UNcPdVJtfxBu",
        "outputId": "8057df39-81a9-42c9-f9e5-20e0b4119f0c"
      },
      "execution_count": 59,
      "outputs": [
        {
          "output_type": "display_data",
          "data": {
            "text/plain": [
              "<TaskRegr:cars> (32 x 11)\n",
              "* Target: mpg\n",
              "* Properties: -\n",
              "* Features (10):\n",
              "  - dbl (10): am, carb, cyl, disp, drat, gear, hp, qsec, vs, wt"
            ]
          },
          "metadata": {}
        },
        {
          "output_type": "display_data",
          "data": {
            "text/html": [
              "<style>\n",
              ".list-inline {list-style: none; margin:0; padding: 0}\n",
              ".list-inline>li {display: inline-block}\n",
              ".list-inline>li:not(:last-child)::after {content: \"\\00b7\"; padding: 0 .5ex}\n",
              "</style>\n",
              "<ol class=list-inline><li>'am'</li><li>'carb'</li><li>'cyl'</li><li>'disp'</li><li>'drat'</li><li>'gear'</li><li>'hp'</li><li>'qsec'</li><li>'vs'</li><li>'wt'</li></ol>\n"
            ],
            "text/markdown": "1. 'am'\n2. 'carb'\n3. 'cyl'\n4. 'disp'\n5. 'drat'\n6. 'gear'\n7. 'hp'\n8. 'qsec'\n9. 'vs'\n10. 'wt'\n\n\n",
            "text/latex": "\\begin{enumerate*}\n\\item 'am'\n\\item 'carb'\n\\item 'cyl'\n\\item 'disp'\n\\item 'drat'\n\\item 'gear'\n\\item 'hp'\n\\item 'qsec'\n\\item 'vs'\n\\item 'wt'\n\\end{enumerate*}\n",
            "text/plain": [
              " [1] \"am\"   \"carb\" \"cyl\"  \"disp\" \"drat\" \"gear\" \"hp\"   \"qsec\" \"vs\"   \"wt\"  "
            ]
          },
          "metadata": {}
        },
        {
          "output_type": "display_data",
          "data": {
            "text/html": [
              "'mpg'"
            ],
            "text/markdown": "'mpg'",
            "text/latex": "'mpg'",
            "text/plain": [
              "[1] \"mpg\""
            ]
          },
          "metadata": {}
        }
      ]
    },
    {
      "cell_type": "code",
      "source": [
        "### Create Learner ------------------------------------------------------------#\n",
        "lrn_rf = lrn(\"regr.ranger\")\n",
        "lrn_rf"
      ],
      "metadata": {
        "colab": {
          "base_uri": "https://localhost:8080/",
          "height": 138
        },
        "id": "gLZGUL31f1PT",
        "outputId": "168d96dc-ee5c-4e03-ac91-3ead888f32ba"
      },
      "execution_count": 60,
      "outputs": [
        {
          "output_type": "display_data",
          "data": {
            "text/plain": [
              "<LearnerRegrRanger:regr.ranger>\n",
              "* Model: -\n",
              "* Parameters: num.threads=1\n",
              "* Packages: mlr3, mlr3learners, ranger\n",
              "* Predict Types:  [response], se\n",
              "* Feature Types: logical, integer, numeric, character, factor, ordered\n",
              "* Properties: hotstart_backward, importance, oob_error, weights"
            ]
          },
          "metadata": {}
        }
      ]
    },
    {
      "cell_type": "code",
      "source": [
        "lrn_rf$param_set\n",
        "lrn_rf$model"
      ],
      "metadata": {
        "colab": {
          "base_uri": "https://localhost:8080/",
          "height": 1000
        },
        "id": "MxpM2LRVf_Wq",
        "outputId": "471a9a35-1c97-47a9-949e-28a0164f171c"
      },
      "execution_count": 61,
      "outputs": [
        {
          "output_type": "display_data",
          "data": {
            "text/plain": [
              "<ParamSet>\n",
              "                              id    class lower upper nlevels        default\n",
              " 1:                        alpha ParamDbl  -Inf   Inf     Inf            0.5\n",
              " 2:       always.split.variables ParamUty    NA    NA     Inf <NoDefault[3]>\n",
              " 3:                      holdout ParamLgl    NA    NA       2          FALSE\n",
              " 4:                   importance ParamFct    NA    NA       4 <NoDefault[3]>\n",
              " 5:                   keep.inbag ParamLgl    NA    NA       2          FALSE\n",
              " 6:                    max.depth ParamInt     0   Inf     Inf               \n",
              " 7:                min.node.size ParamInt     1   Inf     Inf              5\n",
              " 8:                     min.prop ParamDbl  -Inf   Inf     Inf            0.1\n",
              " 9:                      minprop ParamDbl  -Inf   Inf     Inf            0.1\n",
              "10:                         mtry ParamInt     1   Inf     Inf <NoDefault[3]>\n",
              "11:                   mtry.ratio ParamDbl     0     1     Inf <NoDefault[3]>\n",
              "12:            num.random.splits ParamInt     1   Inf     Inf              1\n",
              "13:                  num.threads ParamInt     1   Inf     Inf              1\n",
              "14:                    num.trees ParamInt     1   Inf     Inf            500\n",
              "15:                    oob.error ParamLgl    NA    NA       2           TRUE\n",
              "16:                     quantreg ParamLgl    NA    NA       2          FALSE\n",
              "17:        regularization.factor ParamUty    NA    NA     Inf              1\n",
              "18:      regularization.usedepth ParamLgl    NA    NA       2          FALSE\n",
              "19:                      replace ParamLgl    NA    NA       2           TRUE\n",
              "20:    respect.unordered.factors ParamFct    NA    NA       3         ignore\n",
              "21:              sample.fraction ParamDbl     0     1     Inf <NoDefault[3]>\n",
              "22:                  save.memory ParamLgl    NA    NA       2          FALSE\n",
              "23: scale.permutation.importance ParamLgl    NA    NA       2          FALSE\n",
              "24:                    se.method ParamFct    NA    NA       2        infjack\n",
              "25:                         seed ParamInt  -Inf   Inf     Inf               \n",
              "26:         split.select.weights ParamUty    NA    NA     Inf               \n",
              "27:                    splitrule ParamFct    NA    NA       3       variance\n",
              "28:                      verbose ParamLgl    NA    NA       2           TRUE\n",
              "29:                 write.forest ParamLgl    NA    NA       2           TRUE\n",
              "                              id    class lower upper nlevels        default\n",
              "       parents value\n",
              " 1:  splitrule      \n",
              " 2:                 \n",
              " 3:                 \n",
              " 4:                 \n",
              " 5:                 \n",
              " 6:                 \n",
              " 7:                 \n",
              " 8:                 \n",
              " 9:  splitrule      \n",
              "10:                 \n",
              "11:                 \n",
              "12:  splitrule      \n",
              "13:                1\n",
              "14:                 \n",
              "15:                 \n",
              "16:                 \n",
              "17:                 \n",
              "18:                 \n",
              "19:                 \n",
              "20:                 \n",
              "21:                 \n",
              "22:                 \n",
              "23: importance      \n",
              "24:                 \n",
              "25:                 \n",
              "26:                 \n",
              "27:                 \n",
              "28:                 \n",
              "29:                 \n",
              "       parents value"
            ]
          },
          "metadata": {}
        },
        {
          "output_type": "display_data",
          "data": {
            "text/plain": [
              "NULL"
            ]
          },
          "metadata": {}
        }
      ]
    },
    {
      "cell_type": "code",
      "source": [
        "# train/test split\n",
        "split = partition(task_mtcars, ratio = 0.67)\n",
        "\n",
        "# train the model\n",
        "lrn_rf$train(task_mtcars, split$train_set)\n",
        "\n",
        "# predict data\n",
        "prediction = lrn_rf$predict(task_mtcars, split$test_set)\n",
        "\n",
        "# prediction results\n",
        "prediction$response"
      ],
      "metadata": {
        "colab": {
          "base_uri": "https://localhost:8080/",
          "height": 86
        },
        "id": "GBZEvQnaghhA",
        "outputId": "504ded1c-61a9-40e2-816b-cee4bb89346a"
      },
      "execution_count": 68,
      "outputs": [
        {
          "output_type": "display_data",
          "data": {
            "text/html": [
              "<style>\n",
              ".list-inline {list-style: none; margin:0; padding: 0}\n",
              ".list-inline>li {display: inline-block}\n",
              ".list-inline>li:not(:last-child)::after {content: \"\\00b7\"; padding: 0 .5ex}\n",
              "</style>\n",
              "<ol class=list-inline><li>20.8226633333333</li><li>20.82983</li><li>24.3184861904762</li><li>20.3117547619047</li><li>17.6794831401931</li><li>19.0920147619048</li><li>14.6322323465424</li><li>23.7578171428571</li><li>22.6850904761905</li><li>18.82597</li><li>18.82826</li><li>16.3949588544789</li><li>16.3952893306693</li><li>15.8278793306693</li><li>11.8660023232323</li><li>11.5113356565656</li><li>13.7119771950272</li><li>30.0185040476189</li><li>30.3633107142856</li><li>31.1150973809523</li><li>22.6105104761905</li><li>16.0173788544789</li><li>16.7409331401931</li><li>14.551799013209</li><li>17.6797126640027</li><li>29.4265673809523</li><li>26.1893849999999</li><li>28.050854047619</li><li>16.2416733566434</li><li>19.9192538095238</li><li>15.0753195471196</li><li>22.5647438095238</li></ol>\n"
            ],
            "text/markdown": "1. 20.8226633333333\n2. 20.82983\n3. 24.3184861904762\n4. 20.3117547619047\n5. 17.6794831401931\n6. 19.0920147619048\n7. 14.6322323465424\n8. 23.7578171428571\n9. 22.6850904761905\n10. 18.82597\n11. 18.82826\n12. 16.3949588544789\n13. 16.3952893306693\n14. 15.8278793306693\n15. 11.8660023232323\n16. 11.5113356565656\n17. 13.7119771950272\n18. 30.0185040476189\n19. 30.3633107142856\n20. 31.1150973809523\n21. 22.6105104761905\n22. 16.0173788544789\n23. 16.7409331401931\n24. 14.551799013209\n25. 17.6797126640027\n26. 29.4265673809523\n27. 26.1893849999999\n28. 28.050854047619\n29. 16.2416733566434\n30. 19.9192538095238\n31. 15.0753195471196\n32. 22.5647438095238\n\n\n",
            "text/latex": "\\begin{enumerate*}\n\\item 20.8226633333333\n\\item 20.82983\n\\item 24.3184861904762\n\\item 20.3117547619047\n\\item 17.6794831401931\n\\item 19.0920147619048\n\\item 14.6322323465424\n\\item 23.7578171428571\n\\item 22.6850904761905\n\\item 18.82597\n\\item 18.82826\n\\item 16.3949588544789\n\\item 16.3952893306693\n\\item 15.8278793306693\n\\item 11.8660023232323\n\\item 11.5113356565656\n\\item 13.7119771950272\n\\item 30.0185040476189\n\\item 30.3633107142856\n\\item 31.1150973809523\n\\item 22.6105104761905\n\\item 16.0173788544789\n\\item 16.7409331401931\n\\item 14.551799013209\n\\item 17.6797126640027\n\\item 29.4265673809523\n\\item 26.1893849999999\n\\item 28.050854047619\n\\item 16.2416733566434\n\\item 19.9192538095238\n\\item 15.0753195471196\n\\item 22.5647438095238\n\\end{enumerate*}\n",
            "text/plain": [
              " [1] 20.82266 20.82983 24.31849 20.31175 17.67948 19.09201 14.63223 23.75782\n",
              " [9] 22.68509 18.82597 18.82826 16.39496 16.39529 15.82788 11.86600 11.51134\n",
              "[17] 13.71198 30.01850 30.36331 31.11510 22.61051 16.01738 16.74093 14.55180\n",
              "[25] 17.67971 29.42657 26.18938 28.05085 16.24167 19.91925 15.07532 22.56474"
            ]
          },
          "metadata": {}
        }
      ]
    },
    {
      "cell_type": "code",
      "source": [
        "# Inspect predictions\n",
        "head(data.frame(\n",
        "id = 1:length(prediction$truth),\n",
        "truth = prediction$truth,\n",
        "response = prediction$response))"
      ],
      "metadata": {
        "colab": {
          "base_uri": "https://localhost:8080/",
          "height": 286
        },
        "id": "Wu4z0VqHkFBH",
        "outputId": "586526f9-e01f-4b30-9682-f3c75006e89e"
      },
      "execution_count": 66,
      "outputs": [
        {
          "output_type": "display_data",
          "data": {
            "text/html": [
              "<table class=\"dataframe\">\n",
              "<caption>A data.frame: 6 × 3</caption>\n",
              "<thead>\n",
              "\t<tr><th></th><th scope=col>id</th><th scope=col>truth</th><th scope=col>response</th></tr>\n",
              "\t<tr><th></th><th scope=col>&lt;int&gt;</th><th scope=col>&lt;dbl&gt;</th><th scope=col>&lt;dbl&gt;</th></tr>\n",
              "</thead>\n",
              "<tbody>\n",
              "\t<tr><th scope=row>1</th><td>1</td><td>21.0</td><td>20.71356</td></tr>\n",
              "\t<tr><th scope=row>2</th><td>2</td><td>21.0</td><td>20.70552</td></tr>\n",
              "\t<tr><th scope=row>3</th><td>3</td><td>22.8</td><td>23.97322</td></tr>\n",
              "\t<tr><th scope=row>4</th><td>4</td><td>21.4</td><td>20.18868</td></tr>\n",
              "\t<tr><th scope=row>5</th><td>5</td><td>18.7</td><td>17.64939</td></tr>\n",
              "\t<tr><th scope=row>6</th><td>6</td><td>18.1</td><td>18.77280</td></tr>\n",
              "</tbody>\n",
              "</table>\n"
            ],
            "text/markdown": "\nA data.frame: 6 × 3\n\n| <!--/--> | id &lt;int&gt; | truth &lt;dbl&gt; | response &lt;dbl&gt; |\n|---|---|---|---|\n| 1 | 1 | 21.0 | 20.71356 |\n| 2 | 2 | 21.0 | 20.70552 |\n| 3 | 3 | 22.8 | 23.97322 |\n| 4 | 4 | 21.4 | 20.18868 |\n| 5 | 5 | 18.7 | 17.64939 |\n| 6 | 6 | 18.1 | 18.77280 |\n\n",
            "text/latex": "A data.frame: 6 × 3\n\\begin{tabular}{r|lll}\n  & id & truth & response\\\\\n  & <int> & <dbl> & <dbl>\\\\\n\\hline\n\t1 & 1 & 21.0 & 20.71356\\\\\n\t2 & 2 & 21.0 & 20.70552\\\\\n\t3 & 3 & 22.8 & 23.97322\\\\\n\t4 & 4 & 21.4 & 20.18868\\\\\n\t5 & 5 & 18.7 & 17.64939\\\\\n\t6 & 6 & 18.1 & 18.77280\\\\\n\\end{tabular}\n",
            "text/plain": [
              "  id truth response\n",
              "1 1  21.0  20.71356\n",
              "2 2  21.0  20.70552\n",
              "3 3  22.8  23.97322\n",
              "4 4  21.4  20.18868\n",
              "5 5  18.7  17.64939\n",
              "6 6  18.1  18.77280"
            ]
          },
          "metadata": {}
        }
      ]
    },
    {
      "cell_type": "code",
      "source": [
        "library(mlr3viz)\n",
        "# Get nice visualization with a one-liner\n",
        "mlr3viz::autoplot(prediction)"
      ],
      "metadata": {
        "colab": {
          "base_uri": "https://localhost:8080/",
          "height": 437
        },
        "id": "azZJXFnwkSqo",
        "outputId": "794b57e6-bb10-46f4-cbc9-ed332442b0e2"
      },
      "execution_count": 67,
      "outputs": [
        {
          "output_type": "display_data",
          "data": {
            "text/plain": [
              "plot without title"
            ],
            "image/png": "[encoded data removed]"
          },
          "metadata": {
            "image/png": {
              "width": 420,
              "height": 420
            }
          }
        }
      ]
    },
    {
      "cell_type": "code",
      "source": [
        "# Define MAE metric\n",
        "mae <- mlr3::msr(\"regr.mae\")\n",
        "# Assess performance (MSE by default)\n",
        "prediction$score()\n"
      ],
      "metadata": {
        "colab": {
          "base_uri": "https://localhost:8080/",
          "height": 34
        },
        "id": "h1hVvMIEqSqJ",
        "outputId": "e53fb6f6-d748-43b8-bfab-3703f63db2a5"
      },
      "execution_count": 70,
      "outputs": [
        {
          "output_type": "display_data",
          "data": {
            "text/html": [
              "<strong>regr.mse:</strong> 1.42958484118209"
            ],
            "text/markdown": "**regr.mse:** 1.42958484118209",
            "text/latex": "\\textbf{regr.mse:} 1.42958484118209",
            "text/plain": [
              "regr.mse \n",
              "1.429585 "
            ]
          },
          "metadata": {}
        }
      ]
    },
    {
      "cell_type": "code",
      "source": [
        "prediction$score(mae)"
      ],
      "metadata": {
        "colab": {
          "base_uri": "https://localhost:8080/",
          "height": 34
        },
        "id": "jAGOUORRqcgY",
        "outputId": "5a1d1a58-8dea-4f0c-81d8-5e7401b212bd"
      },
      "execution_count": 71,
      "outputs": [
        {
          "output_type": "display_data",
          "data": {
            "text/html": [
              "<strong>regr.mae:</strong> 0.94598318462788"
            ],
            "text/markdown": "**regr.mae:** 0.94598318462788",
            "text/latex": "\\textbf{regr.mae:} 0.94598318462788",
            "text/plain": [
              " regr.mae \n",
              "0.9459832 "
            ]
          },
          "metadata": {}
        }
      ]
    },
    {
      "cell_type": "markdown",
      "source": [
        "# Conclusion\n",
        "\n",
        "In this webinar, you learned about mlr3 which is a powerful R package that makes machine learning easier. It provides a unified interface to existing machine learning algorithms and makes it easy to experiment with different models. mlr3 also provides a number of features that make it easier to evaluate and compare different models."
      ],
      "metadata": {
        "id": "urxYExfROEl5"
      }
    },
    {
      "cell_type": "markdown",
      "source": [
        "# Resources\n",
        "\n",
        "- [mlr3 website](https://mlr3.mlr-org.com/)\n",
        "- [Flexible and Robust Machine Learning Using mlr3 in R (ebook)](https://mlr3book.mlr-org.com/)\n",
        "- [Exploring the World of Machine Learning with mlr3 in R](https://medium.com/@moonchangin/introduction-to-machine-learning-in-r-mlr3-e3229b97d422)\n",
        "- [Building ML models using mlr3 ](https://medium.com/@natalie.a.foss/building-ml-models-using-mlr3-b91c9b26a9a3)\n",
        "- [mlr3 cheatsheets](https://cheatsheets.mlr-org.com/)\n",
        "- [Introduction to Machine Learning (I2ML)](https://slds-lmu.github.io/i2ml/)"
      ],
      "metadata": {
        "id": "05K2XDgQOEl5"
      }
    },
    {
      "cell_type": "markdown",
      "source": [
        "# About Me\n",
        "\n",
        "## Poo Kuan Hoong, Ph.D\n",
        "Connect with me:\n",
        "- [Twitter](https://twitter.com/kuanhoong)\n",
        "- [LinkedIn](https://www.linkedin.com/in/kuanhoong/)\n",
        "- [GitHub](https://github.com/kuanhoong/)"
      ],
      "metadata": {
        "id": "9iyQqPwvOEl6"
      }
    }
  ]
}